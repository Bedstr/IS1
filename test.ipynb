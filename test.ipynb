{
 "cells": [
  {
   "cell_type": "code",
   "execution_count": 2,
   "metadata": {},
   "outputs": [
    {
     "name": "stdout",
     "output_type": "stream",
     "text": [
      "0 ((x ** 4) - 6) 10\n",
      "1 (((x / 8) * 2) + 1) 1.5\n",
      "2 (((x - 1) - 3) / 5) -0.4\n",
      "3 (x * 5) 10\n",
      "4 (x + 2) 4\n",
      "5 ((x + 1) * 7) 21\n",
      "6 ((x + 2) ** 9) 262144\n",
      "7 (x * 2) 4\n",
      "8 (((x ** 8) * 5) / 3) 426.6666666666667\n",
      "9 (x / 7) 0.2857142857142857\n",
      "10 (((x - 2) + 4) * 5) 20\n",
      "11 ((x / 9) / 7) 0.031746031746031744\n",
      "12 (x ** 4) 16\n",
      "13 ((x * 7) - 2) 12\n",
      "14 (((x - 2) * 2) ** 6) 0\n",
      "15 (((x ** 4) - 8) ** 7) 2097152\n",
      "16 (x + 4) 6\n",
      "17 (((x ** 2) ** 7) * 5) 81920\n",
      "18 (((x * 4) * 4) ** 6) 1073741824\n",
      "19 (((x * 5) - 4) / 6) 1.0\n",
      "20 ((x - 4) / 9) -0.2222222222222222\n",
      "21 ((x ** 1) ** 7) 128\n",
      "22 (((x ** 6) * 8) ** 4) 68719476736\n",
      "23 (((x / 5) / 2) + 7) 7.2\n",
      "24 (x - 7) -5\n",
      "25 (((x * 3) / x) ** 4) 81.0\n",
      "26 (((x + 8) - 7) - 6) -3\n",
      "27 ((x ** 9) / 9) 56.888888888888886\n",
      "28 (x + 6) 8\n",
      "29 (x / 9) 0.2222222222222222\n",
      "30 ((x / 5) + 9) 9.4\n",
      "31 ((x ** 9) / 3) 170.66666666666666\n",
      "32 ((x ** 9) ** 1) 512\n",
      "33 ((x / 6) - 7) -6.666666666666667\n",
      "34 (((x ** 1) ** x) / 7) 0.5714285714285714\n",
      "35 (x - 8) -6\n",
      "36 (((x / 3) / 4) ** 6) 2.1433470507544573e-05\n",
      "37 (x / 2) 1.0\n",
      "38 ((x ** x) / 2) 2.0\n",
      "39 (((x * 7) ** 4) + 3) 38419\n",
      "40 (x * 3) 6\n",
      "41 ((x ** 1) + 9) 11\n",
      "42 ((x * 2) / 7) 0.5714285714285714\n",
      "43 ((x / 9) / 3) 0.07407407407407407\n",
      "44 (((x - 8) / x) / 6) -0.5\n",
      "45 (((x + 7) + 6) * 9) 135\n",
      "46 (((x / 5) - 7) + 7) 0.40000000000000036\n",
      "47 (((x / 8) / 5) / 6) 0.008333333333333333\n",
      "48  1*x**2 + 4*x + 5 17\n"
     ]
    },
    {
     "ename": "IndexError",
     "evalue": "pop from empty list",
     "output_type": "error",
     "traceback": [
      "\u001b[1;31m---------------------------------------------------------------------------\u001b[0m",
      "\u001b[1;31mIndexError\u001b[0m                                Traceback (most recent call last)",
      "\u001b[1;32md:\\PROJECTS\\IS\\seminar\\IS1\\test.ipynb Cell 1\u001b[0m line \u001b[0;36m1\n\u001b[0;32m     <a href='vscode-notebook-cell:/d%3A/PROJECTS/IS/seminar/IS1/test.ipynb#W0sZmlsZQ%3D%3D?line=9'>10</a>\u001b[0m sorted_tokens \u001b[39m=\u001b[39m sort_tokens(fix_sorted_tokens)\n\u001b[0;32m     <a href='vscode-notebook-cell:/d%3A/PROJECTS/IS/seminar/IS1/test.ipynb#W0sZmlsZQ%3D%3D?line=10'>11</a>\u001b[0m \u001b[39m# print(sorted_tokens)\u001b[39;00m\n\u001b[1;32m---> <a href='vscode-notebook-cell:/d%3A/PROJECTS/IS/seminar/IS1/test.ipynb#W0sZmlsZQ%3D%3D?line=11'>12</a>\u001b[0m tree \u001b[39m=\u001b[39m build_tree(sorted_tokens)\n\u001b[0;32m     <a href='vscode-notebook-cell:/d%3A/PROJECTS/IS/seminar/IS1/test.ipynb#W0sZmlsZQ%3D%3D?line=12'>13</a>\u001b[0m rez \u001b[39m=\u001b[39m calculate_tree(tree, \u001b[39m2\u001b[39m)\n\u001b[0;32m     <a href='vscode-notebook-cell:/d%3A/PROJECTS/IS/seminar/IS1/test.ipynb#W0sZmlsZQ%3D%3D?line=13'>14</a>\u001b[0m \u001b[39mprint\u001b[39m(f, formule[f],rez )\n",
      "File \u001b[1;32md:\\PROJECTS\\IS\\seminar\\IS1\\r.py:146\u001b[0m, in \u001b[0;36mbuild_tree\u001b[1;34m(tokens)\u001b[0m\n\u001b[0;32m    143\u001b[0m \u001b[39mwhile\u001b[39;00m node \u001b[39m!=\u001b[39m \u001b[39m\"\u001b[39m\u001b[39m(\u001b[39m\u001b[39m\"\u001b[39m:\n\u001b[0;32m    144\u001b[0m     last \u001b[39m=\u001b[39m node\n\u001b[1;32m--> 146\u001b[0m     node \u001b[39m=\u001b[39m stack\u001b[39m.\u001b[39mpop()\n\u001b[0;32m    147\u001b[0m     \u001b[39m# The last popped node is the root of a subtree that corresponds to the expression\u001b[39;00m\n\u001b[0;32m    148\u001b[0m     \u001b[39m# inside the parentheses\u001b[39;00m\n\u001b[0;32m    149\u001b[0m     \u001b[39m# Push this node onto the stack\u001b[39;00m\n\u001b[0;32m    150\u001b[0m     stack\u001b[39m.\u001b[39mappend(last)\n",
      "\u001b[1;31mIndexError\u001b[0m: pop from empty list"
     ]
    }
   ],
   "source": [
    "import pandas as pd\n",
    "from r import *\n",
    "\n",
    "data = pd.read_csv(\"./dataset.csv\")\n",
    "formule = data['Equation']\n",
    "\n",
    "for f in range(0, 99):\n",
    "    tokens = parse_equation1(formule[f])\n",
    "    fix_sorted_tokens = fix2(tokens)\n",
    "    sorted_tokens = sort_tokens(fix_sorted_tokens)\n",
    "    # print(sorted_tokens)\n",
    "    tree = build_tree(sorted_tokens)\n",
    "    rez = calculate_tree(tree, 2)\n",
    "    print(f, formule[f],rez )\n",
    "    tree = build_tree(sorted_tokens)\n",
    "    # print_infix(tree)\n"
   ]
  },
  {
   "cell_type": "markdown",
   "metadata": {},
   "source": []
  }
 ],
 "metadata": {
  "kernelspec": {
   "display_name": "base",
   "language": "python",
   "name": "python3"
  },
  "language_info": {
   "codemirror_mode": {
    "name": "ipython",
    "version": 3
   },
   "file_extension": ".py",
   "mimetype": "text/x-python",
   "name": "python",
   "nbconvert_exporter": "python",
   "pygments_lexer": "ipython3",
   "version": "3.11.5"
  }
 },
 "nbformat": 4,
 "nbformat_minor": 2
}
