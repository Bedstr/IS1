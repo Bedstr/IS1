{
 "cells": [
  {
   "cell_type": "code",
   "execution_count": 20,
   "metadata": {},
   "outputs": [
    {
     "name": "stdout",
     "output_type": "stream",
     "text": [
      "                                  Equation  \\\n",
      "0                           ((x ** 4) - 6)   \n",
      "1                      (((x / 8) * 2) + 1)   \n",
      "2                      (((x - 1) - 3) / 5)   \n",
      "3                                  (x * 5)   \n",
      "4                                  (x + 2)   \n",
      "..                                     ...   \n",
      "93            1*x**5 + -2*x**3 + -1*x + -5   \n",
      "94              3*x**5 + 2*x**4 + 1*x + -2   \n",
      "95                     -4*x**5 + -1*x + -5   \n",
      "96                                4*x + +1   \n",
      "97   -4*x**5 + 3*x**4 + -4*x**2 + -2*x + 5   \n",
      "\n",
      "                                                   Xs  \\\n",
      "0   [1, 2, 3, 4, 5, 6, 7, 8, 9, 10, 11, 12, 13, 14...   \n",
      "1   [1, 2, 3, 4, 5, 6, 7, 8, 9, 10, 11, 12, 13, 14...   \n",
      "2   [1, 2, 3, 4, 5, 6, 7, 8, 9, 10, 11, 12, 13, 14...   \n",
      "3   [1, 2, 3, 4, 5, 6, 7, 8, 9, 10, 11, 12, 13, 14...   \n",
      "4   [1, 2, 3, 4, 5, 6, 7, 8, 9, 10, 11, 12, 13, 14...   \n",
      "..                                                ...   \n",
      "93  [1, 2, 3, 4, 5, 6, 7, 8, 9, 10, 11, 12, 13, 14...   \n",
      "94  [1, 2, 3, 4, 5, 6, 7, 8, 9, 10, 11, 12, 13, 14...   \n",
      "95  [1, 2, 3, 4, 5, 6, 7, 8, 9, 10, 11, 12, 13, 14...   \n",
      "96  [1, 2, 3, 4, 5, 6, 7, 8, 9, 10, 11, 12, 13, 14...   \n",
      "97  [1, 2, 3, 4, 5, 6, 7, 8, 9, 10, 11, 12, 13, 14...   \n",
      "\n",
      "                                                   Ys  \n",
      "0   [-5, 10, 75, 250, 619, 1290, 2395, 4090, 6555,...  \n",
      "1   [1.25, 1.5, 1.75, 2.0, 2.25, 2.5, 2.75, 3.0, 3...  \n",
      "2   [-0.6, -0.4, -0.2, 0.0, 0.2, 0.4, 0.6, 0.8, 1....  \n",
      "3   [5, 10, 15, 20, 25, 30, 35, 40, 45, 50, 55, 60...  \n",
      "4   [3, 4, 5, 6, 7, 8, 9, 10, 11, 12, 13, 14, 15, ...  \n",
      "..                                                ...  \n",
      "93  [-7, 9, 181, 887, 2865, 7333, 16109, 31731, 57...  \n",
      "94  [4, 128, 892, 3586, 10628, 25924, 55228, 10650...  \n",
      "95  [-10, -135, -980, -4105, -12510, -31115, -6724...  \n",
      "96  [5, 9, 13, 17, 21, 25, 29, 33, 37, 41, 45, 49,...  \n",
      "97  [-2, -95, -766, -3395, -10730, -27367, -60230,...  \n",
      "\n"
     ]
    }
   ],
   "source": [
    "import pandas as pd\n",
    "from r import *\n",
    "import json\n",
    "\n",
    "data = pd.read_csv(\"./dataset.csv\")\n",
    "formule = data['Equation']\n",
    "print(data)\n",
    "\n",
    "for f in range(0, 97):\n",
    "    tokens = parse_equation1(formule[f])\n",
    "#     fix_sorted_tokens = fix2(tokens)\n",
    "#     sorted_tokens = sort_tokens(fix_sorted_tokens)\n",
    "\n",
    "#     tree = build_tree(sorted_tokens)\n",
    "#     rez = calculate_tree(tree, 2)\n",
    "#     print(f,formule[f],rez )\n",
    "#     # tree = build_tree(sorted_tokens)\n",
    "#     # print_infix(tree)\n"
   ]
  },
  {
   "cell_type": "code",
   "execution_count": 37,
   "metadata": {},
   "outputs": [],
   "source": [
    "def calcY(data):\n",
    "    expression = data[\"Equation\"]\n",
    "    calculateY = []\n",
    "    tokens = parse_equation1(expression)\n",
    "    fix_sorted_tokens = fix2(tokens)\n",
    "    sorted_tokens = sort_tokens(fix_sorted_tokens)\n",
    "\n",
    "    tree = build_tree(sorted_tokens)\n",
    "    rez = calculate_tree(tree, 2)\n",
    "    print(f,formule[f],rez )\n",
    "    # tree = build_tree(sorted_tokens)\n",
    "    # print_infix(tree)\n"
   ]
  },
  {
   "cell_type": "code",
   "execution_count": 94,
   "metadata": {},
   "outputs": [
    {
     "name": "stdout",
     "output_type": "stream",
     "text": [
      "3/3**x\n",
      "100012.9412778086\n"
     ]
    }
   ],
   "source": [
    "import random\n",
    "from r import calculate_tree, fix2\n",
    "import math\n",
    "import numpy as np\n",
    "def fitness_primitive(guess_eq, df, index):\n",
    "    row = df.iloc[index]\n",
    "    Xs = json.loads(row['Xs'])\n",
    "    \n",
    "    Ys = json.loads(row['Ys'])\n",
    "    real_eq = row['Equation']\n",
    "    \n",
    "    tokens = parse_equation1(guess_eq)\n",
    "    fix_tokens = fix2(tokens)\n",
    "    sorted_tokens = sort_tokens(fix_tokens)\n",
    "    tree = build_tree(sorted_tokens)\n",
    "    fitnessVal = 0\n",
    "    for i in range(len(Xs)):\n",
    "        rez = calculate_tree(tree, int(Xs[i]))\n",
    "        real_val = int(Ys[i])\n",
    "        sub = round(np.abs(real_val - rez), 5)\n",
    "        if sub == 0:\n",
    "            fitnessVal += 9999\n",
    "        else:\n",
    "            fitnessVal += 1/sub\n",
    "    return fitnessVal\n",
    "        \n",
    "\n",
    "    \n",
    "    \n",
    "def generate_expression():\n",
    "    operators = [\"+\", \"-\", \"*\", \"/\", \"**\"]\n",
    "    vals = [str(random.randint(1, 10)),str(random.randint(1, 10)), \"x\"]\n",
    "    num_terms = random.randint(2, 4)\n",
    "    terms = []\n",
    "    x = 0\n",
    "    for i in range(num_terms):\n",
    "        op = random.choice(operators)\n",
    "        if (x == 0 and i == num_terms - 1):\n",
    "            num = \"x\"\n",
    "            x += 1\n",
    "        else:\n",
    "            num = random.choice(vals)\n",
    "            if (num == \"x\"):\n",
    "                x += 1\n",
    "        terms.append(op)\n",
    "        terms.append(num)\n",
    "\n",
    "    terms.pop(0)\n",
    "    expression = \"\".join(terms)\n",
    "\n",
    "    return expression\n",
    "\n",
    "expression = generate_expression()\n",
    "print(expression)\n",
    "fitnesVal = fitness_primitive(expression, data, 1)\n",
    "print(fitnesVal)"
   ]
  },
  {
   "cell_type": "code",
   "execution_count": 123,
   "metadata": {},
   "outputs": [
    {
     "name": "stdout",
     "output_type": "stream",
     "text": [
      "{'x-8': 200007.2225552607, 'x+5+x': 2.0184849578117188, '4*x': 1.4758275580758813, 'x*6/6**6': 14.308108834024123, '7/x': 19.274100936934534, 'x*4': 1.4758275580758813, 'x**6': 99999.0175930906, '6-x': 100004.62109052889, '1*1-1/x': 20.33934306867774, 'x+x': 3.5188021590130205, 'x-7-x**7': 0.13299840163983906, '9-x*2*9': 0.34854140384328214, '2/x**10+2': 400013.9788327107, '10*x': 14.30229424947555, '8**x-8': 1.020449514578645, '10+2*10+x': 100005.40262914785, '3-2**2+x': 100006.98927150441, '10+x': 100005.40262914785, '2/3*3+x': 5.0424341407286795, '1**5-x-x': 2.423585193647883, '4/4**x': 100012.70752341872, '3**x+x': 0.4859782760793383, '5+x': 3.760224788899071, '4/4**x*9': 14.56260843782983, 'x**5-x': 1.0402360399500084, '9-10+x': 100005.40262914785, '10**6*x': 14.30229424947555, '3+3-x': 100004.62109052889, 'x**3*x': 99999.08668164181, 'x-x': 14.30229424947555, 'x/x*8-x': 100005.32173107422, '6*x': 0.9390526448473546, '3/x/x**3': 14.076789504004479, '3**x': 0.6823310277510118, '10/x**1': 14.30229424947555, '9-x*8*x': 99999.09235918426, '9-x': 100004.99559633878, 'x**10-x/x': 10.954715901897202, 'x/4-x': 4.46158156999664, '4+1/4+x': 3.976659045973158, '7*x**2': 0.25929162574059883, '9/8*x': 13.35874786451048, '7-7**8**x': 1.734667361920719e-07, '5*5**5**x': 6.400819252433834e-05, 'x/2-2/2': 200022.37596884213, '4*4-8+x': 3.157079759432905, 'x*1+x**1': 3.5188021590130205, 'x+9*9': 0.875854459505282, '1/3**x': 14.97037220468412, '6-5-5-x': 2.568330459014143, 'x/7': 27.0683243003955, 'x/4+8/8': 2500158.3333333335, '4-6/6*x': 100004.18614718817, '4-x*7': 0.877440949979468, 'x*4**7+4': 0.0003165969530365283, '4+2-x': 100004.62109052889, 'x**9-9+1': 0.12704336278611023, 'x+4**6-x': 0.024493371645566978, '2+2+x': 4.0584609565024286, 'x-6+5': 100006.98927150441, 'x*6*7': 0.12488641486940509, '9-x+x': 400020.32816807344, '4**4/x': 20.407740163703927, '5**7+x': 0.0012793900850047138, '2/x*4+x': 4.8393849162479325, '1**1-9+x': 200007.2225552607, 'x+1-1': 100005.40262914785, 'x+8*x*8': 0.08037782707351401, '4-4**3/x': 10.584353476942582, '1-x': 4.570348460970632, '2*x': 3.5188021590130205, 'x-7+x+1': 100003.31816110521, 'x/3': 400052.67579737044, '4/x-4+4': 17.329366231221165, 'x/4/4': 17.886641938781395, 'x+6*6**4': 0.012798869581909204, 'x/x-x-6': 2.435340982809226, '9*x': 0.6081770406002498, 'x**3': 99999.22200970804, 'x**1*1*1': 100005.40262914785, 'x/4': 208.3333333333334, '2/x': 100014.97148119267, 'x+2*10*x': 14.30229424947555, '8-x': 100005.32173107422, 'x/x/4': 15.96451110074022, '2+2**x+5': 0.4008184704058393, 'x**x*x*9': 0.1405741921765489, '10-x': 3.654268941290438, '7+x*7+7': 0.5502889211119324, '5*5/x+5': 47.36524716546963, '1/6*1+x': 12.10716960399748, '1/9-9**x': 0.11487674780011443, 'x+1-x': 300012.14383271075, 'x+6+6*x': 0.6426370895792546}\n"
     ]
    }
   ],
   "source": [
    "results = {}\n",
    "for i in range(100):\n",
    "    expression = generate_expression()\n",
    "    fitness = fitness_primitive(expression, data, 1)\n",
    "    \n",
    "    results[expression] = fitness\n",
    "    \n",
    "\n",
    "# print(results.values())\n",
    "result = dict(sorted(results.items()))\n",
    "# results = sorted(results)\n",
    "\n",
    "print(results)\n"
   ]
  },
  {
   "cell_type": "code",
   "execution_count": 37,
   "metadata": {},
   "outputs": [],
   "source": [
    "def calcY(data):\n",
    "    expression = data[\"Equation\"]\n",
    "    calculateY = []\n",
    "    tokens = parse_equation1(expression)\n",
    "    fix_sorted_tokens = fix2(tokens)\n",
    "    sorted_tokens = sort_tokens(fix_sorted_tokens)\n",
    "\n",
    "    tree = build_tree(sorted_tokens)\n",
    "    numbers = json.loads(data['Xs'])\n",
    "    for i in numbers:\n",
    "        rez = calculate_tree(tree, i)\n",
    "        calculateY.append(rez)\n",
    "    # print(0,expression,rez )\n",
    "    print(calculateY)\n",
    "\n",
    "    return calculateY\n",
    "    "
   ]
  },
  {
   "cell_type": "code",
   "execution_count": 46,
   "metadata": {},
   "outputs": [
    {
     "name": "stdout",
     "output_type": "stream",
     "text": [
      "[1.25, 1.5, 1.75, 2.0, 2.25, 2.5, 2.75, 3.0, 3.25, 3.5, 3.75, 4.0, 4.25, 4.5, 4.75, 5.0, 5.25, 5.5, 5.75, 6.0, 6.25, 6.5, 6.75, 7.0, 7.25, 7.5, 7.75, 8.0, 8.25, 8.5, 8.75, 9.0, 9.25, 9.5, 9.75, 10.0, 10.25, 10.5, 10.75, 11.0, 11.25, 11.5, 11.75, 12.0, 12.25, 12.5, 12.75, 13.0, 13.25, 13.5, 13.75, 14.0, 14.25, 14.5, 14.75, 15.0, 15.25, 15.5, 15.75, 16.0, 16.25, 16.5, 16.75, 17.0, 17.25, 17.5, 17.75, 18.0, 18.25, 18.5, 18.75, 19.0, 19.25, 19.5, 19.75, 20.0, 20.25, 20.5, 20.75, 21.0, 21.25, 21.5, 21.75, 22.0, 22.25, 22.5, 22.75, 23.0, 23.25, 23.5, 23.75, 24.0, 24.25, 24.5, 24.75, 25.0, 25.25, 25.5, 25.75, 26.0]\n"
     ]
    }
   ],
   "source": [
    "calculate_y=calcY(data.iloc[0])"
   ]
  },
  {
   "cell_type": "code",
   "execution_count": 43,
   "metadata": {},
   "outputs": [],
   "source": [
    "# def fitness_function(ga_instance, Ys,data):\n",
    "#     expected_Ys = json.loads(data['Ys'])\n",
    "#     errors = []\n",
    "#     for i in range(len(Ys)):\n",
    "#         rez = (expected_Ys[i]-Ys[i])**2\n",
    "#         errors.append(rez)\n",
    "#     return sum(errors)/len(errors)"
   ]
  },
  {
   "cell_type": "code",
   "execution_count": 47,
   "metadata": {},
   "outputs": [
    {
     "name": "stdout",
     "output_type": "stream",
     "text": [
      "0.0\n"
     ]
    }
   ],
   "source": [
    "# MSE = fitness_function(calculate_y,data.iloc[0])\n",
    "# print(MSE)"
   ]
  },
  {
   "cell_type": "markdown",
   "metadata": {},
   "source": []
  },
  {
   "cell_type": "code",
   "execution_count": null,
   "metadata": {},
   "outputs": [],
   "source": [
    "import pygad\n",
    "ga_instance = pygad.GA(num_generations=100,\n",
    "                       fitness_func=fitness_function,\n",
    "                       num_parents_mating=10,\n",
    "                       sol_per_pop=20,\n",
    "                       mutation_type=\"adaptive\",\n",
    "                       mutation_num_genes=(3, 1))"
   ]
  }
 ],
 "metadata": {
  "kernelspec": {
   "display_name": "base",
   "language": "python",
   "name": "python3"
  },
  "language_info": {
   "codemirror_mode": {
    "name": "ipython",
    "version": 3
   },
   "file_extension": ".py",
   "mimetype": "text/x-python",
   "name": "python",
   "nbconvert_exporter": "python",
   "pygments_lexer": "ipython3",
   "version": "3.11.5"
  }
 },
 "nbformat": 4,
 "nbformat_minor": 2
}
