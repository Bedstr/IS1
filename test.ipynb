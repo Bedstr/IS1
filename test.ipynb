{
 "cells": [
  {
   "cell_type": "code",
   "execution_count": 1,
   "metadata": {},
   "outputs": [
    {
     "name": "stdout",
     "output_type": "stream",
     "text": [
      "['x', '(', '3', '4', '-', ')', '+']\n",
      "x + 3 - 4 1\n",
      "(((x - 1) - 3) / 5) ['(', '(', '(', '(', 'x', '1', '-', ')', '3', '-', ')', '5', '/', ')', ')']\n",
      "(x * 5) ['(', '(', 'x', '5', '*', ')', ')']\n",
      "(x + 2) ['(', 'x', '2', '+', ')']\n",
      "((x + 1) * 7) ['(', '(', '(', 'x', '1', '+', ')', '7', '*', ')', ')']\n",
      "((x + 2) ** 9) ['(', '(', 'x', '2', '+', ')', '9', '^', ')']\n",
      "(x * 2) ['(', '(', 'x', '2', '*', ')', ')']\n",
      "(((x ** 8) * 5) / 3) ['(', '(', '(', '(', '(', 'x', '8', '^', ')', '5', '*', ')', ')', '3', '/', ')', ')']\n",
      "(x / 7) ['(', '(', 'x', '7', '/', ')', ')']\n"
     ]
    }
   ],
   "source": [
    "import pandas as pd\n",
    "from r import *\n",
    "\n",
    "data = pd.read_csv(\"./dataset.csv\")\n",
    "formule = data['Equation']\n",
    "\n",
    "for f in range(2, 10):\n",
    "    tokens = parse_equation1(formule[f])\n",
    "    fix_sorted_tokens = fix2(tokens)\n",
    "    sorted_tokens = sort_tokens(fix_sorted_tokens)\n",
    "\n",
    "    tree = build_tree(sorted_tokens)\n",
    "    rez = calculate_tree(tree, 2)\n",
    "    print(formule[f],rez )\n",
    "    # tree = build_tree(sorted_tokens)\n",
    "    # print_infix(tree)\n"
   ]
  },
  {
   "cell_type": "markdown",
   "metadata": {},
   "source": []
  }
 ],
 "metadata": {
  "kernelspec": {
   "display_name": "base",
   "language": "python",
   "name": "python3"
  },
  "language_info": {
   "codemirror_mode": {
    "name": "ipython",
    "version": 3
   },
   "file_extension": ".py",
   "mimetype": "text/x-python",
   "name": "python",
   "nbconvert_exporter": "python",
   "pygments_lexer": "ipython3",
   "version": "3.11.5"
  }
 },
 "nbformat": 4,
 "nbformat_minor": 2
}
