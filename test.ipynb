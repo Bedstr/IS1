{
 "cells": [
  {
   "cell_type": "code",
   "execution_count": 20,
   "metadata": {},
   "outputs": [
    {
     "name": "stdout",
     "output_type": "stream",
     "text": [
      "                                  Equation  \\\n",
      "0                           ((x ** 4) - 6)   \n",
      "1                      (((x / 8) * 2) + 1)   \n",
      "2                      (((x - 1) - 3) / 5)   \n",
      "3                                  (x * 5)   \n",
      "4                                  (x + 2)   \n",
      "..                                     ...   \n",
      "93            1*x**5 + -2*x**3 + -1*x + -5   \n",
      "94              3*x**5 + 2*x**4 + 1*x + -2   \n",
      "95                     -4*x**5 + -1*x + -5   \n",
      "96                                4*x + +1   \n",
      "97   -4*x**5 + 3*x**4 + -4*x**2 + -2*x + 5   \n",
      "\n",
      "                                                   Xs  \\\n",
      "0   [1, 2, 3, 4, 5, 6, 7, 8, 9, 10, 11, 12, 13, 14...   \n",
      "1   [1, 2, 3, 4, 5, 6, 7, 8, 9, 10, 11, 12, 13, 14...   \n",
      "2   [1, 2, 3, 4, 5, 6, 7, 8, 9, 10, 11, 12, 13, 14...   \n",
      "3   [1, 2, 3, 4, 5, 6, 7, 8, 9, 10, 11, 12, 13, 14...   \n",
      "4   [1, 2, 3, 4, 5, 6, 7, 8, 9, 10, 11, 12, 13, 14...   \n",
      "..                                                ...   \n",
      "93  [1, 2, 3, 4, 5, 6, 7, 8, 9, 10, 11, 12, 13, 14...   \n",
      "94  [1, 2, 3, 4, 5, 6, 7, 8, 9, 10, 11, 12, 13, 14...   \n",
      "95  [1, 2, 3, 4, 5, 6, 7, 8, 9, 10, 11, 12, 13, 14...   \n",
      "96  [1, 2, 3, 4, 5, 6, 7, 8, 9, 10, 11, 12, 13, 14...   \n",
      "97  [1, 2, 3, 4, 5, 6, 7, 8, 9, 10, 11, 12, 13, 14...   \n",
      "\n",
      "                                                   Ys  \n",
      "0   [-5, 10, 75, 250, 619, 1290, 2395, 4090, 6555,...  \n",
      "1   [1.25, 1.5, 1.75, 2.0, 2.25, 2.5, 2.75, 3.0, 3...  \n",
      "2   [-0.6, -0.4, -0.2, 0.0, 0.2, 0.4, 0.6, 0.8, 1....  \n",
      "3   [5, 10, 15, 20, 25, 30, 35, 40, 45, 50, 55, 60...  \n",
      "4   [3, 4, 5, 6, 7, 8, 9, 10, 11, 12, 13, 14, 15, ...  \n",
      "..                                                ...  \n",
      "93  [-7, 9, 181, 887, 2865, 7333, 16109, 31731, 57...  \n",
      "94  [4, 128, 892, 3586, 10628, 25924, 55228, 10650...  \n",
      "95  [-10, -135, -980, -4105, -12510, -31115, -6724...  \n",
      "96  [5, 9, 13, 17, 21, 25, 29, 33, 37, 41, 45, 49,...  \n",
      "97  [-2, -95, -766, -3395, -10730, -27367, -60230,...  \n",
      "\n",
      "[98 rows x 3 columns]\n"
     ]
    }
   ],
   "source": [
    "import pandas as pd\n",
    "from r import *\n",
    "import json\n",
    "\n",
    "data = pd.read_csv(\"./dataset.csv\")\n",
    "formule = data['Equation']\n",
    "print(data)\n",
    "\n",
    "# for f in range(0, 48):\n",
    "#     tokens = parse_equation1(formule[f])\n",
    "#     fix_sorted_tokens = fix2(tokens)\n",
    "#     sorted_tokens = sort_tokens(fix_sorted_tokens)\n",
    "\n",
    "#     tree = build_tree(sorted_tokens)\n",
    "#     rez = calculate_tree(tree, 2)\n",
    "#     print(f,formule[f],rez )\n",
    "#     # tree = build_tree(sorted_tokens)\n",
    "#     # print_infix(tree)\n"
   ]
  },
  {
   "cell_type": "code",
   "execution_count": 37,
   "metadata": {},
   "outputs": [],
   "source": [
    "def calcY(data):\n",
    "    expression = data[\"Equation\"]\n",
    "    calculateY = []\n",
    "    tokens = parse_equation1(expression)\n",
    "    fix_sorted_tokens = fix2(tokens)\n",
    "    sorted_tokens = sort_tokens(fix_sorted_tokens)\n",
    "\n",
    "    tree = build_tree(sorted_tokens)\n",
    "    numbers = json.loads(data['Xs'])\n",
    "    for i in numbers:\n",
    "        rez = calculate_tree(tree, i)\n",
    "        calculateY.append(rez)\n",
    "    # print(0,expression,rez )\n",
    "    print(calculateY)\n",
    "\n",
    "    return calculateY\n",
    "    "
   ]
  },
  {
   "cell_type": "code",
   "execution_count": 46,
   "metadata": {},
   "outputs": [
    {
     "name": "stdout",
     "output_type": "stream",
     "text": [
      "[1.25, 1.5, 1.75, 2.0, 2.25, 2.5, 2.75, 3.0, 3.25, 3.5, 3.75, 4.0, 4.25, 4.5, 4.75, 5.0, 5.25, 5.5, 5.75, 6.0, 6.25, 6.5, 6.75, 7.0, 7.25, 7.5, 7.75, 8.0, 8.25, 8.5, 8.75, 9.0, 9.25, 9.5, 9.75, 10.0, 10.25, 10.5, 10.75, 11.0, 11.25, 11.5, 11.75, 12.0, 12.25, 12.5, 12.75, 13.0, 13.25, 13.5, 13.75, 14.0, 14.25, 14.5, 14.75, 15.0, 15.25, 15.5, 15.75, 16.0, 16.25, 16.5, 16.75, 17.0, 17.25, 17.5, 17.75, 18.0, 18.25, 18.5, 18.75, 19.0, 19.25, 19.5, 19.75, 20.0, 20.25, 20.5, 20.75, 21.0, 21.25, 21.5, 21.75, 22.0, 22.25, 22.5, 22.75, 23.0, 23.25, 23.5, 23.75, 24.0, 24.25, 24.5, 24.75, 25.0, 25.25, 25.5, 25.75, 26.0]\n"
     ]
    }
   ],
   "source": [
    "calculate_y=calcY(data.iloc[0])"
   ]
  },
  {
   "cell_type": "code",
   "execution_count": 43,
   "metadata": {},
   "outputs": [],
   "source": [
    "def fitness_function(Ys,data):\n",
    "    expected_Ys = json.loads(data['Ys'])\n",
    "    errors = []\n",
    "    for i in range(len(Ys)):\n",
    "        rez = (expected_Ys[i]-Ys[i])**2\n",
    "        errors.append(rez)\n",
    "    return sum(errors)/len(errors)"
   ]
  },
  {
   "cell_type": "code",
   "execution_count": 47,
   "metadata": {},
   "outputs": [
    {
     "name": "stdout",
     "output_type": "stream",
     "text": [
      "0.0\n"
     ]
    }
   ],
   "source": [
    "MSE = fitness_function(calculate_y,data.iloc[0])\n",
    "print(MSE)"
   ]
  },
  {
   "cell_type": "markdown",
   "metadata": {},
   "source": []
  }
 ],
 "metadata": {
  "kernelspec": {
   "display_name": "base",
   "language": "python",
   "name": "python3"
  },
  "language_info": {
   "codemirror_mode": {
    "name": "ipython",
    "version": 3
   },
   "file_extension": ".py",
   "mimetype": "text/x-python",
   "name": "python",
   "nbconvert_exporter": "python",
   "pygments_lexer": "ipython3",
   "version": "3.10.12"
  }
 },
 "nbformat": 4,
 "nbformat_minor": 2
}
